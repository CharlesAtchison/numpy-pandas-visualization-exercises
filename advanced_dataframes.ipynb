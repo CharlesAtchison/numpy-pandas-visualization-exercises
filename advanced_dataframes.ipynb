{
 "cells": [
  {
   "cell_type": "markdown",
   "id": "ce21a957",
   "metadata": {},
   "source": [
    "# Advanced Dataframes Exercises I"
   ]
  },
  {
   "cell_type": "markdown",
   "id": "41dbad84",
   "metadata": {},
   "source": [
    "### 1. Run python -m pip install mysqlclient pymysql from your terminal to install the mysql client (any folder is fine)"
   ]
  },
  {
   "cell_type": "markdown",
   "id": "20034b2d",
   "metadata": {},
   "source": [
    "### 2. cd into your exercises folder for this module and run echo env.py >> .gitignore"
   ]
  },
  {
   "cell_type": "markdown",
   "id": "6e35af24",
   "metadata": {},
   "source": [
    "### 3. Create a function named `get_db_url`. It should accept a username, hostname, password, and database name and return a url connection string formatted like in the example at the start of this lesson."
   ]
  },
  {
   "cell_type": "code",
   "execution_count": 1,
   "id": "e280667f",
   "metadata": {},
   "outputs": [],
   "source": [
    "from env import user, password, host\n",
    "import pandas as pd\n",
    "import numpy as np\n",
    "\n",
    "def get_db_url(username: str, hostname: str , password: str, database_name: str):\n",
    "    '''\n",
    "    Takes username, hostname, password and database_name and \n",
    "    returns a connection string\n",
    "    '''\n",
    "    connection = f'mysql+pymysql://{username}:{password}@{hostname}/{database_name}'\n",
    "    \n",
    "    return connection\n",
    "\n",
    "emp_conn = get_db_url(user, host, password, 'employees')\n"
   ]
  },
  {
   "cell_type": "markdown",
   "id": "6ed06507",
   "metadata": {},
   "source": [
    "### 4. Use your function to obtain a connection to the employees database."
   ]
  },
  {
   "cell_type": "code",
   "execution_count": 2,
   "id": "56ed8998",
   "metadata": {
    "scrolled": true
   },
   "outputs": [
    {
     "data": {
      "text/html": [
       "<div>\n",
       "<style scoped>\n",
       "    .dataframe tbody tr th:only-of-type {\n",
       "        vertical-align: middle;\n",
       "    }\n",
       "\n",
       "    .dataframe tbody tr th {\n",
       "        vertical-align: top;\n",
       "    }\n",
       "\n",
       "    .dataframe thead th {\n",
       "        text-align: right;\n",
       "    }\n",
       "</style>\n",
       "<table border=\"1\" class=\"dataframe\">\n",
       "  <thead>\n",
       "    <tr style=\"text-align: right;\">\n",
       "      <th></th>\n",
       "      <th>emp_no</th>\n",
       "      <th>birth_date</th>\n",
       "      <th>first_name</th>\n",
       "      <th>last_name</th>\n",
       "      <th>gender</th>\n",
       "      <th>hire_date</th>\n",
       "    </tr>\n",
       "  </thead>\n",
       "  <tbody>\n",
       "    <tr>\n",
       "      <th>0</th>\n",
       "      <td>10051</td>\n",
       "      <td>1953-07-28</td>\n",
       "      <td>Hidefumi</td>\n",
       "      <td>Caine</td>\n",
       "      <td>M</td>\n",
       "      <td>1992-10-15</td>\n",
       "    </tr>\n",
       "    <tr>\n",
       "      <th>1</th>\n",
       "      <td>10052</td>\n",
       "      <td>1961-02-26</td>\n",
       "      <td>Heping</td>\n",
       "      <td>Nitsch</td>\n",
       "      <td>M</td>\n",
       "      <td>1988-05-21</td>\n",
       "    </tr>\n",
       "    <tr>\n",
       "      <th>2</th>\n",
       "      <td>10053</td>\n",
       "      <td>1954-09-13</td>\n",
       "      <td>Sanjiv</td>\n",
       "      <td>Zschoche</td>\n",
       "      <td>F</td>\n",
       "      <td>1986-02-04</td>\n",
       "    </tr>\n",
       "    <tr>\n",
       "      <th>3</th>\n",
       "      <td>10054</td>\n",
       "      <td>1957-04-04</td>\n",
       "      <td>Mayumi</td>\n",
       "      <td>Schueller</td>\n",
       "      <td>M</td>\n",
       "      <td>1995-03-13</td>\n",
       "    </tr>\n",
       "    <tr>\n",
       "      <th>4</th>\n",
       "      <td>10055</td>\n",
       "      <td>1956-06-06</td>\n",
       "      <td>Georgy</td>\n",
       "      <td>Dredge</td>\n",
       "      <td>M</td>\n",
       "      <td>1992-04-27</td>\n",
       "    </tr>\n",
       "  </tbody>\n",
       "</table>\n",
       "</div>"
      ],
      "text/plain": [
       "   emp_no  birth_date first_name  last_name gender   hire_date\n",
       "0   10051  1953-07-28   Hidefumi      Caine      M  1992-10-15\n",
       "1   10052  1961-02-26     Heping     Nitsch      M  1988-05-21\n",
       "2   10053  1954-09-13     Sanjiv   Zschoche      F  1986-02-04\n",
       "3   10054  1957-04-04     Mayumi  Schueller      M  1995-03-13\n",
       "4   10055  1956-06-06     Georgy     Dredge      M  1992-04-27"
      ]
     },
     "execution_count": 2,
     "metadata": {},
     "output_type": "execute_result"
    }
   ],
   "source": [
    "sql = '''\n",
    "select *\n",
    "from employees\n",
    "limit 5\n",
    "offset 50\n",
    "'''\n",
    "pd.read_sql(sql, emp_conn)"
   ]
  },
  {
   "cell_type": "markdown",
   "id": "7006b763",
   "metadata": {},
   "source": [
    "### 5a. Intentionally make a typo in the database url. What kind of error message do you see? \n",
    "\n",
    "* Returns: ```NoSuchModuleError: Can't load plugin: sqlalchemy.dialects:mysqltest.pymysql\n",
    "```"
   ]
  },
  {
   "cell_type": "code",
   "execution_count": 3,
   "id": "c388c3bd",
   "metadata": {
    "scrolled": false
   },
   "outputs": [],
   "source": [
    "bad_conn = emp_conn[:5] + 'test' + emp_conn[5:]\n",
    "# pd.read_sql(sql, bad_conn)"
   ]
  },
  {
   "cell_type": "markdown",
   "id": "197cac1d",
   "metadata": {},
   "source": [
    "### 5b. Intentionally make an error in your SQL query. What does the error message look like? \n",
    "\n",
    "* Returns: ```ProgrammingError: (pymysql.err.ProgrammingError) (1146, \"Table 'employees.employeeeeeeeeees' doesn't exist\")```"
   ]
  },
  {
   "cell_type": "code",
   "execution_count": 4,
   "id": "5eee974f",
   "metadata": {
    "scrolled": true
   },
   "outputs": [],
   "source": [
    "bad_sql = '''\n",
    "select *\n",
    "from employeeeeeeeeees\n",
    "limit 5\n",
    "offset 50\n",
    "'''\n",
    "# pd.read_sql(bad_sql, emp_conn)"
   ]
  },
  {
   "cell_type": "markdown",
   "id": "f0423939",
   "metadata": {},
   "source": [
    "### 6. Read the employees and titles tables into two separate DataFrames."
   ]
  },
  {
   "cell_type": "code",
   "execution_count": 5,
   "id": "16f4a058",
   "metadata": {},
   "outputs": [],
   "source": [
    "sql_employees = '''\n",
    "select *\n",
    "from employees\n",
    "'''\n",
    "employees = pd.read_sql(sql_employees, emp_conn)\n",
    "sql_titles = '''\n",
    "select *\n",
    "from titles\n",
    "'''\n",
    "titles = pd.read_sql(sql_titles, emp_conn)"
   ]
  },
  {
   "cell_type": "markdown",
   "id": "0457f4fa",
   "metadata": {},
   "source": [
    "### 7. How many rows and columns do you have in each DataFrame? Is that what you expected? \n",
    "\n",
    "* 300024 rows, 6 columns - employees / 443308 rows, 4 columns and Yes because there would be more titles than employees as each employee will have at least one title and can have many. Yes this is what I expected."
   ]
  },
  {
   "cell_type": "code",
   "execution_count": 6,
   "id": "0ca02d7d",
   "metadata": {
    "scrolled": true
   },
   "outputs": [
    {
     "data": {
      "text/plain": [
       "[(300024, 6), (443308, 4)]"
      ]
     },
     "execution_count": 6,
     "metadata": {},
     "output_type": "execute_result"
    }
   ],
   "source": [
    "[employees.shape, titles.shape]"
   ]
  },
  {
   "cell_type": "markdown",
   "id": "e08acc4e",
   "metadata": {},
   "source": [
    "### 8. Display the summary statistics for each DataFrame."
   ]
  },
  {
   "cell_type": "code",
   "execution_count": 7,
   "id": "9a77f12e",
   "metadata": {
    "scrolled": true
   },
   "outputs": [
    {
     "data": {
      "text/html": [
       "<div>\n",
       "<style scoped>\n",
       "    .dataframe tbody tr th:only-of-type {\n",
       "        vertical-align: middle;\n",
       "    }\n",
       "\n",
       "    .dataframe tbody tr th {\n",
       "        vertical-align: top;\n",
       "    }\n",
       "\n",
       "    .dataframe thead th {\n",
       "        text-align: right;\n",
       "    }\n",
       "</style>\n",
       "<table border=\"1\" class=\"dataframe\">\n",
       "  <thead>\n",
       "    <tr style=\"text-align: right;\">\n",
       "      <th></th>\n",
       "      <th>emp_no</th>\n",
       "    </tr>\n",
       "  </thead>\n",
       "  <tbody>\n",
       "    <tr>\n",
       "      <th>count</th>\n",
       "      <td>443308.000000</td>\n",
       "    </tr>\n",
       "    <tr>\n",
       "      <th>mean</th>\n",
       "      <td>253075.034430</td>\n",
       "    </tr>\n",
       "    <tr>\n",
       "      <th>std</th>\n",
       "      <td>161853.292613</td>\n",
       "    </tr>\n",
       "    <tr>\n",
       "      <th>min</th>\n",
       "      <td>10001.000000</td>\n",
       "    </tr>\n",
       "    <tr>\n",
       "      <th>25%</th>\n",
       "      <td>84855.750000</td>\n",
       "    </tr>\n",
       "    <tr>\n",
       "      <th>50%</th>\n",
       "      <td>249847.500000</td>\n",
       "    </tr>\n",
       "    <tr>\n",
       "      <th>75%</th>\n",
       "      <td>424891.250000</td>\n",
       "    </tr>\n",
       "    <tr>\n",
       "      <th>max</th>\n",
       "      <td>499999.000000</td>\n",
       "    </tr>\n",
       "  </tbody>\n",
       "</table>\n",
       "</div>"
      ],
      "text/plain": [
       "              emp_no\n",
       "count  443308.000000\n",
       "mean   253075.034430\n",
       "std    161853.292613\n",
       "min     10001.000000\n",
       "25%     84855.750000\n",
       "50%    249847.500000\n",
       "75%    424891.250000\n",
       "max    499999.000000"
      ]
     },
     "execution_count": 7,
     "metadata": {},
     "output_type": "execute_result"
    }
   ],
   "source": [
    "employees.describe()\n",
    "titles.describe()"
   ]
  },
  {
   "cell_type": "markdown",
   "id": "3b4a654f",
   "metadata": {},
   "source": [
    "### 9. How many unique titles are in the `titles` DataFrame?"
   ]
  },
  {
   "cell_type": "code",
   "execution_count": 8,
   "id": "d0dcdb5c",
   "metadata": {
    "scrolled": true
   },
   "outputs": [
    {
     "data": {
      "text/plain": [
       "7"
      ]
     },
     "execution_count": 8,
     "metadata": {},
     "output_type": "execute_result"
    }
   ],
   "source": [
    "len(titles.title.unique())"
   ]
  },
  {
   "cell_type": "markdown",
   "id": "d4e37dbf",
   "metadata": {},
   "source": [
    "### 10. What is the oldest date in the to_date column?"
   ]
  },
  {
   "cell_type": "code",
   "execution_count": 9,
   "id": "290d16b5",
   "metadata": {},
   "outputs": [
    {
     "data": {
      "text/plain": [
       "datetime.date(1985, 3, 1)"
      ]
     },
     "execution_count": 9,
     "metadata": {},
     "output_type": "execute_result"
    }
   ],
   "source": [
    "titles.to_date.min()"
   ]
  },
  {
   "cell_type": "markdown",
   "id": "c9465e09",
   "metadata": {},
   "source": [
    "### 11. What is the most recent date in the to_date column?"
   ]
  },
  {
   "cell_type": "code",
   "execution_count": 10,
   "id": "38a2f390",
   "metadata": {},
   "outputs": [
    {
     "ename": "NameError",
     "evalue": "name 'datetime' is not defined",
     "output_type": "error",
     "traceback": [
      "\u001b[0;31m---------------------------------------------------------------------------\u001b[0m",
      "\u001b[0;31mNameError\u001b[0m                                 Traceback (most recent call last)",
      "\u001b[0;32m<ipython-input-10-c0c8dc2ec213>\u001b[0m in \u001b[0;36m<module>\u001b[0;34m\u001b[0m\n\u001b[0;32m----> 1\u001b[0;31m \u001b[0mtitles\u001b[0m\u001b[0;34m[\u001b[0m\u001b[0mtitles\u001b[0m\u001b[0;34m.\u001b[0m\u001b[0mto_date\u001b[0m \u001b[0;34m!=\u001b[0m \u001b[0mdatetime\u001b[0m\u001b[0;34m.\u001b[0m\u001b[0mdate\u001b[0m\u001b[0;34m(\u001b[0m\u001b[0;36m9999\u001b[0m\u001b[0;34m,\u001b[0m \u001b[0;36m1\u001b[0m\u001b[0;34m,\u001b[0m \u001b[0;36m1\u001b[0m\u001b[0;34m)\u001b[0m\u001b[0;34m]\u001b[0m\u001b[0;34m.\u001b[0m\u001b[0mto_date\u001b[0m\u001b[0;34m.\u001b[0m\u001b[0mmax\u001b[0m\u001b[0;34m(\u001b[0m\u001b[0;34m)\u001b[0m\u001b[0;34m\u001b[0m\u001b[0;34m\u001b[0m\u001b[0m\n\u001b[0m",
      "\u001b[0;31mNameError\u001b[0m: name 'datetime' is not defined"
     ]
    }
   ],
   "source": [
    "titles[titles.to_date != datetime.date(9999, 1, 1)].to_date.max()"
   ]
  },
  {
   "cell_type": "markdown",
   "id": "0f86bee8",
   "metadata": {},
   "source": [
    "# Exercises II"
   ]
  },
  {
   "cell_type": "markdown",
   "id": "e4b84a60",
   "metadata": {},
   "source": [
    "### 1. Copy the `users` and `roles` DataFrames from the examples above."
   ]
  },
  {
   "cell_type": "code",
   "execution_count": null,
   "id": "cac014be",
   "metadata": {},
   "outputs": [],
   "source": [
    "users = pd.DataFrame({\n",
    "    'id': [1, 2, 3, 4, 5, 6],\n",
    "    'name': ['bob', 'joe', 'sally', 'adam', 'jane', 'mike'],\n",
    "    'role_id': [1, 2, 3, 3, np.nan, np.nan]\n",
    "})\n",
    "\n",
    "roles = pd.DataFrame({\n",
    "    'id': [1, 2, 3, 4],\n",
    "    'name': ['admin', 'author', 'reviewer', 'commenter']\n",
    "})\n"
   ]
  },
  {
   "cell_type": "markdown",
   "id": "5b7a9114",
   "metadata": {},
   "source": [
    "### 2. What is the result of using a `right` join on the DataFrames?\n",
    "\n"
   ]
  },
  {
   "cell_type": "code",
   "execution_count": null,
   "id": "1a987cb4",
   "metadata": {
    "scrolled": true
   },
   "outputs": [],
   "source": [
    "users.join(roles, how='right', lsuffix='_users', rsuffix='_roles')\n"
   ]
  },
  {
   "cell_type": "markdown",
   "id": "04f08a4c",
   "metadata": {},
   "source": [
    "### 3. What is the result of using an outer join on the DataFrames?"
   ]
  },
  {
   "cell_type": "code",
   "execution_count": null,
   "id": "70d87c67",
   "metadata": {},
   "outputs": [],
   "source": [
    "users.join(roles, how='outer', lsuffix='_users', rsuffix='_roles')"
   ]
  },
  {
   "cell_type": "markdown",
   "id": "93690dc9",
   "metadata": {},
   "source": [
    "### 4. What happens if you drop the foreign keys from the DataFrames and try to merge them?"
   ]
  },
  {
   "cell_type": "code",
   "execution_count": null,
   "id": "61331baf",
   "metadata": {
    "scrolled": true
   },
   "outputs": [],
   "source": [
    "users.drop(columns='role_id')\n",
    "users.merge(roles, how='outer')"
   ]
  },
  {
   "cell_type": "markdown",
   "id": "cf048180",
   "metadata": {},
   "source": [
    "### 5. Load the `mpg` dataset from PyDataset."
   ]
  },
  {
   "cell_type": "code",
   "execution_count": null,
   "id": "9eeff3ed",
   "metadata": {},
   "outputs": [],
   "source": [
    "from pydataset import data\n",
    "mpg = data('mpg')"
   ]
  },
  {
   "cell_type": "markdown",
   "id": "f5ac3e58",
   "metadata": {},
   "source": [
    "### 6. Output and read the documentation for the `mpg` dataset.\n",
    "\n"
   ]
  },
  {
   "cell_type": "code",
   "execution_count": null,
   "id": "bf2c73b6",
   "metadata": {
    "scrolled": true
   },
   "outputs": [],
   "source": [
    "data('mpg', show_doc=True)"
   ]
  },
  {
   "cell_type": "markdown",
   "id": "750db110",
   "metadata": {},
   "source": [
    "### 7. How many rows and columns are in the dataset?\n",
    "\n",
    "* 234 Rows and 11 Columns"
   ]
  },
  {
   "cell_type": "code",
   "execution_count": null,
   "id": "a208ea56",
   "metadata": {},
   "outputs": [],
   "source": [
    "mpg.shape"
   ]
  },
  {
   "cell_type": "markdown",
   "id": "26db964d",
   "metadata": {},
   "source": [
    "### 8. Check out your column names and perform any cleanup you may want on them."
   ]
  },
  {
   "cell_type": "code",
   "execution_count": null,
   "id": "1dc28df4",
   "metadata": {
    "scrolled": true
   },
   "outputs": [],
   "source": [
    "mpg.drop(columns=['displ', 'fl', 'cyl', 'drv'])"
   ]
  },
  {
   "cell_type": "markdown",
   "id": "77f474d7",
   "metadata": {},
   "source": [
    "### 9. Display the summary statistics for the dataset."
   ]
  },
  {
   "cell_type": "code",
   "execution_count": null,
   "id": "b214ece9",
   "metadata": {
    "scrolled": true
   },
   "outputs": [],
   "source": [
    "mpg.describe()"
   ]
  },
  {
   "cell_type": "markdown",
   "id": "71704ba7",
   "metadata": {},
   "source": [
    "### 10. How many different manufacturers are there?\n",
    "\n",
    "* There are 15 different manufacturers."
   ]
  },
  {
   "cell_type": "code",
   "execution_count": null,
   "id": "6bab108e",
   "metadata": {},
   "outputs": [],
   "source": [
    "len(mpg.manufacturer.unique())"
   ]
  },
  {
   "cell_type": "markdown",
   "id": "9423f490",
   "metadata": {},
   "source": [
    "### 11. How many different models are there?\n",
    "\n",
    "* There are 38 different models"
   ]
  },
  {
   "cell_type": "code",
   "execution_count": null,
   "id": "6db129bf",
   "metadata": {
    "scrolled": true
   },
   "outputs": [],
   "source": [
    "len(mpg.model.unique())"
   ]
  },
  {
   "cell_type": "markdown",
   "id": "567485a0",
   "metadata": {},
   "source": [
    "### 12. Create a column named `mileage_difference` like you did in the DataFrames exercises; this column should contain the difference between highway and city mileage for each car."
   ]
  },
  {
   "cell_type": "code",
   "execution_count": null,
   "id": "fede1ce7",
   "metadata": {},
   "outputs": [],
   "source": [
    "mpg['mileage_difference'] = mpg.hwy - mpg.cty"
   ]
  },
  {
   "cell_type": "markdown",
   "id": "6b5226ab",
   "metadata": {},
   "source": [
    "### 13. Create a column named `average_mileage` like you did in the DataFrames exercises; this is the mean of the city and highway mileage."
   ]
  },
  {
   "cell_type": "code",
   "execution_count": null,
   "id": "139df52e",
   "metadata": {
    "scrolled": true
   },
   "outputs": [],
   "source": [
    "mpg['average_mileage'] = round(mpg[['cty', 'hwy']].mean(axis=1), 2)"
   ]
  },
  {
   "cell_type": "markdown",
   "id": "6d5c8114",
   "metadata": {},
   "source": [
    "### 14. Create a new column on the `mpg` dataset named `is_automatic` that holds boolean values denoting whether the car has an automatic transmission."
   ]
  },
  {
   "cell_type": "code",
   "execution_count": null,
   "id": "d3b90943",
   "metadata": {},
   "outputs": [],
   "source": [
    "mpg['is_automatic'] = mpg.trans.str.contains('auto')"
   ]
  },
  {
   "cell_type": "markdown",
   "id": "f9566a9d",
   "metadata": {},
   "source": [
    "### 15. Using the `mpg` dataset, find out which which manufacturer has the best miles per gallon on average?\n",
    "\n",
    "|manufacturer|model|displ|year|cyl|trans|drv|cty|hwy|fl|class|mileage_difference|average_mileage|is_automatic|\n",
    "|------|------|------|------|------|------|------|------|------|------|------|------|------|------|\n",
    "|222|volkswagen|new beetle|1.9|1999|4|manual(m5)|f|35|44|d|subcompact|9|39.5|False|\n"
   ]
  },
  {
   "cell_type": "code",
   "execution_count": null,
   "id": "c0880e94",
   "metadata": {
    "scrolled": true
   },
   "outputs": [],
   "source": [
    "mpg[mpg.average_mileage == mpg.average_mileage.max()]"
   ]
  },
  {
   "cell_type": "markdown",
   "id": "9e931b74",
   "metadata": {},
   "source": [
    "### 16. Do automatic or manual cars have better miles per gallon? -- \n",
    "\n",
    "* Manual's have better mpg in this data set on average:\n",
    "|auto trans|manual trans|\n",
    "|---|---|\n",
    "|19.130573248407643|22.227272727272727|"
   ]
  },
  {
   "cell_type": "code",
   "execution_count": null,
   "id": "d1e5fd50",
   "metadata": {},
   "outputs": [],
   "source": [
    "auto_mpg_avg = mpg[mpg.trans.str.contains('auto')].average_mileage.mean()\n",
    "manual_mpg_avg = mpg[mpg.trans.str.contains('manual')].average_mileage.mean()\n",
    "auto_mpg_avg, manual_mpg_avg"
   ]
  },
  {
   "cell_type": "markdown",
   "id": "c5dcd408",
   "metadata": {},
   "source": [
    "# Exercises III"
   ]
  },
  {
   "cell_type": "markdown",
   "id": "4588b5bc",
   "metadata": {},
   "source": [
    "### 1. Use your `get_db_url` function to help you explore the data from the chipotle database."
   ]
  },
  {
   "cell_type": "code",
   "execution_count": null,
   "id": "78a2bd10",
   "metadata": {},
   "outputs": [],
   "source": [
    "conn = get_db_url(username=user, password=password, hostname=host, database_name='chipotle')\n",
    "sql = '''\n",
    "select *\n",
    "from orders'''\n",
    "chipotle = pd.read_sql(sql, conn)\n",
    "chipotle"
   ]
  },
  {
   "cell_type": "markdown",
   "id": "1a205768",
   "metadata": {},
   "source": [
    "### 2. What is the total price for each order?\n",
    "\n",
    "* $34,500.16 is the total price for all orders."
   ]
  },
  {
   "cell_type": "code",
   "execution_count": null,
   "id": "1050d012",
   "metadata": {
    "scrolled": true
   },
   "outputs": [],
   "source": [
    "chipotle.item_price.replace('[\\$,]', '', regex=True).astype(float).sum()"
   ]
  },
  {
   "cell_type": "markdown",
   "id": "60357285",
   "metadata": {},
   "source": [
    "### 3. What are the most popular 3 items?\n",
    "\n",
    "* The three most popular items are:\n",
    "** Chicken Bowl:          726\n",
    "** Chicken Burrito:       553\\n\n",
    "** Chips and Guacamole:   479\\n\n",
    "\n"
   ]
  },
  {
   "cell_type": "code",
   "execution_count": null,
   "id": "66d47028",
   "metadata": {},
   "outputs": [],
   "source": [
    "chipotle.item_name.value_counts().head(n=3)"
   ]
  },
  {
   "cell_type": "markdown",
   "id": "95b9267c",
   "metadata": {},
   "source": [
    "### 4. Which item has produced the most revenue?\n",
    "\n",
    "<table border=\"1\" class=\"dataframe\">  <thead>    <tr style=\"text-align: right;\">      <th></th>      <th>id</th>      <th>order_id</th>      <th>quantity</th>      <th>item_name</th>      <th>choice_description</th>      <th>item_price</th>      <th>revenue</th>    </tr>  </thead>  <tbody>    <tr>      <th>3598</th>      <td>3599</td>      <td>1443</td>      <td>15</td>      <td>Chips and Fresh Tomato Salsa</td>      <td>nan</td>      <td>44.25</td>      <td>663.75</td>    </tr>  </tbody></table>"
   ]
  },
  {
   "cell_type": "code",
   "execution_count": null,
   "id": "ff97e448",
   "metadata": {
    "scrolled": true
   },
   "outputs": [],
   "source": [
    "mxidx = chipotle.item_price.replace('[\\$,]', '', regex=True).astype(float).idxmax()\n",
    "chipotle.loc[mxidx]"
   ]
  },
  {
   "cell_type": "markdown",
   "id": "f7195042",
   "metadata": {},
   "source": [
    "### 5. Join the `employees` and `titles` DataFrames together."
   ]
  },
  {
   "cell_type": "code",
   "execution_count": null,
   "id": "86c244ad",
   "metadata": {
    "scrolled": true
   },
   "outputs": [],
   "source": [
    "emp_w_title = employees.merge(titles, how='left')\n",
    "emp_w_title"
   ]
  },
  {
   "cell_type": "markdown",
   "id": "4355006c",
   "metadata": {},
   "source": [
    "### 6. For each title, find the hire date of the employee that was hired most recently with that title."
   ]
  },
  {
   "cell_type": "code",
   "execution_count": null,
   "id": "146a4c67",
   "metadata": {},
   "outputs": [],
   "source": [
    "hire_dte = emp_w_title.groupby(by='title').hire_date.agg(['max'])\n",
    "hire_dte.rename(columns={'max': 'most recent hire date'})"
   ]
  },
  {
   "cell_type": "markdown",
   "id": "89f75f5c",
   "metadata": {},
   "source": [
    "### 7. Write the code necessary to create a cross tabulation of the number of titles by department. (Hint: this will involve a combination of SQL code to pull the necessary data and python/pandas code to perform the manipulations.)"
   ]
  },
  {
   "cell_type": "code",
   "execution_count": null,
   "id": "a024dddc",
   "metadata": {
    "scrolled": true
   },
   "outputs": [],
   "source": [
    "dept_sql = '''\n",
    "select title, dept_name\n",
    "from employees\n",
    "join dept_emp\n",
    "using(emp_no)\n",
    "join departments\n",
    "using(dept_no)\n",
    "join titles\n",
    "on titles.emp_no = employees.emp_no\n",
    "and titles.to_date >= now() #You could remove this and get all titles\n",
    "'''\n",
    "title_dept = pd.read_sql(dept_sql, emp_conn)\n",
    "# title_dept.groupby(['dept_name','title']).title.agg(['count'])\n",
    "pd.crosstab(title_dept.dept_name, title_dept.title, margins=True).T\n"
   ]
  }
 ],
 "metadata": {
  "kernelspec": {
   "display_name": "Python 3",
   "language": "python",
   "name": "python3"
  },
  "language_info": {
   "codemirror_mode": {
    "name": "ipython",
    "version": 3
   },
   "file_extension": ".py",
   "mimetype": "text/x-python",
   "name": "python",
   "nbconvert_exporter": "python",
   "pygments_lexer": "ipython3",
   "version": "3.8.8"
  }
 },
 "nbformat": 4,
 "nbformat_minor": 5
}
