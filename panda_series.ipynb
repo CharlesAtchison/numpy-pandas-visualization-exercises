{
 "cells": [
  {
   "cell_type": "markdown",
   "id": "63bf10ad",
   "metadata": {},
   "source": [
    "## Panda Series Exercises Part 1"
   ]
  },
  {
   "cell_type": "markdown",
   "id": "0e63d89e",
   "metadata": {},
   "source": [
    "#### Use pandas to create a Series named fruits from the following list:\n",
    "\n",
    "```[\"kiwi\", \"mango\", \"strawberry\", \"pineapple\", \"gala apple\", \"honeycrisp apple\", \"tomato\", \"watermelon\", \"honeydew\", \"kiwi\", \"kiwi\", \"kiwi\", \"mango\", \"blueberry\", \"blackberry\", \"gooseberry\", \"papaya\"]```"
   ]
  },
  {
   "cell_type": "code",
   "execution_count": 49,
   "id": "1634cfba",
   "metadata": {},
   "outputs": [],
   "source": [
    "import pandas as pd\n",
    "\n",
    "fruit_data = [\"kiwi\", \"mango\", \"strawberry\", \"pineapple\", \"gala apple\", \"honeycrisp apple\", \"tomato\", \"watermelon\", \"honeydew\", \"kiwi\", \"kiwi\", \"kiwi\", \"mango\", \"blueberry\", \"blackberry\", \"gooseberry\", \"papaya\"]\n",
    "fruits = pd.Series(fruit_data)"
   ]
  },
  {
   "cell_type": "markdown",
   "id": "66837e77",
   "metadata": {},
   "source": [
    "### Use Series attributes and methods to explore your fruits Series.\n",
    "\n",
    "#### 1. Determine the number of elements in fruits."
   ]
  },
  {
   "cell_type": "code",
   "execution_count": 50,
   "id": "b0080c7b",
   "metadata": {},
   "outputs": [
    {
     "data": {
      "text/plain": [
       "17"
      ]
     },
     "execution_count": 50,
     "metadata": {},
     "output_type": "execute_result"
    }
   ],
   "source": [
    "fruits.size"
   ]
  },
  {
   "cell_type": "markdown",
   "id": "df935714",
   "metadata": {},
   "source": [
    "#### 2. Output only the index from fruits."
   ]
  },
  {
   "cell_type": "code",
   "execution_count": 60,
   "id": "236a4842",
   "metadata": {},
   "outputs": [
    {
     "name": "stdout",
     "output_type": "stream",
     "text": [
      "RangeIndex(start=0, stop=17, step=1)\n"
     ]
    }
   ],
   "source": [
    "print(fruits.index)"
   ]
  },
  {
   "cell_type": "markdown",
   "id": "f78a07a2",
   "metadata": {},
   "source": [
    "#### 3. Output only the values from fruits."
   ]
  },
  {
   "cell_type": "code",
   "execution_count": 91,
   "id": "f7a8dec8",
   "metadata": {},
   "outputs": [
    {
     "name": "stdout",
     "output_type": "stream",
     "text": [
      "kiwi\n",
      "mango\n",
      "strawberry\n",
      "pineapple\n",
      "gala apple\n",
      "honeycrisp apple\n",
      "tomato\n",
      "watermelon\n",
      "honeydew\n",
      "kiwi\n",
      "kiwi\n",
      "kiwi\n",
      "mango\n",
      "blueberry\n",
      "blackberry\n",
      "gooseberry\n",
      "papaya\n"
     ]
    }
   ],
   "source": [
    "fruit_values = fruits.values\n",
    "for each_fruit in fruit_values:\n",
    "    print(each_fruit)"
   ]
  },
  {
   "cell_type": "markdown",
   "id": "52576189",
   "metadata": {},
   "source": [
    "#### 4. Confirm the data type of the values in fruits."
   ]
  },
  {
   "cell_type": "code",
   "execution_count": 54,
   "id": "76736231",
   "metadata": {},
   "outputs": [
    {
     "name": "stdout",
     "output_type": "stream",
     "text": [
      "object\n"
     ]
    }
   ],
   "source": [
    "print(fruits.dtypes)"
   ]
  },
  {
   "cell_type": "markdown",
   "id": "5e190459",
   "metadata": {},
   "source": [
    "#### 5. Output only the first five values from fruits. Output the last three values. Output two random values from fruits."
   ]
  },
  {
   "cell_type": "code",
   "execution_count": 88,
   "id": "eb38b018",
   "metadata": {},
   "outputs": [
    {
     "data": {
      "text/plain": [
       "0     kiwi\n",
       "11    kiwi\n",
       "dtype: object"
      ]
     },
     "execution_count": 88,
     "metadata": {},
     "output_type": "execute_result"
    }
   ],
   "source": [
    "fruits.head()\n",
    "fruits.tail(n=3)\n",
    "fruits.sample(n=2)"
   ]
  },
  {
   "cell_type": "markdown",
   "id": "56cb2884",
   "metadata": {},
   "source": [
    "#### 6. Run the ```.describe()``` on fruits to see what information it returns when called on Series with string values."
   ]
  },
  {
   "cell_type": "code",
   "execution_count": 62,
   "id": "96646482",
   "metadata": {},
   "outputs": [
    {
     "data": {
      "text/plain": [
       "count       17\n",
       "unique      13\n",
       "top       kiwi\n",
       "freq         4\n",
       "dtype: object"
      ]
     },
     "execution_count": 62,
     "metadata": {},
     "output_type": "execute_result"
    }
   ],
   "source": [
    "fruits.describe()"
   ]
  },
  {
   "cell_type": "markdown",
   "id": "8757355b",
   "metadata": {},
   "source": [
    "#### 7. Run the code necessary to produce only the unique string values from fruits."
   ]
  },
  {
   "cell_type": "code",
   "execution_count": 85,
   "id": "f430634b",
   "metadata": {},
   "outputs": [
    {
     "name": "stdout",
     "output_type": "stream",
     "text": [
      "kiwi\n",
      "mango\n",
      "strawberry\n",
      "pineapple\n",
      "gala apple\n",
      "honeycrisp apple\n",
      "tomato\n",
      "watermelon\n",
      "honeydew\n",
      "blueberry\n",
      "blackberry\n",
      "gooseberry\n",
      "papaya\n"
     ]
    }
   ],
   "source": [
    "unique_fruits = fruits.unique()\n",
    "for each_fruit in unique_fruits:\n",
    "    print(each_fruit)"
   ]
  },
  {
   "cell_type": "markdown",
   "id": "09a72b8b",
   "metadata": {},
   "source": [
    "#### 8. Determine how many times each unique string value occurs in fruits."
   ]
  },
  {
   "cell_type": "code",
   "execution_count": 71,
   "id": "eae5d607",
   "metadata": {},
   "outputs": [
    {
     "data": {
      "text/plain": [
       "kiwi                4\n",
       "mango               2\n",
       "blueberry           1\n",
       "blackberry          1\n",
       "papaya              1\n",
       "watermelon          1\n",
       "honeydew            1\n",
       "pineapple           1\n",
       "honeycrisp apple    1\n",
       "gala apple          1\n",
       "strawberry          1\n",
       "tomato              1\n",
       "gooseberry          1\n",
       "dtype: int64"
      ]
     },
     "execution_count": 71,
     "metadata": {},
     "output_type": "execute_result"
    }
   ],
   "source": [
    "fruits.value_counts()"
   ]
  },
  {
   "cell_type": "markdown",
   "id": "5fb2681f",
   "metadata": {},
   "source": [
    "#### 9. Determine the string value that occurs most frequently in fruits."
   ]
  },
  {
   "cell_type": "code",
   "execution_count": 81,
   "id": "f5beb40f",
   "metadata": {},
   "outputs": [
    {
     "data": {
      "text/plain": [
       "'kiwi'"
      ]
     },
     "execution_count": 81,
     "metadata": {},
     "output_type": "execute_result"
    }
   ],
   "source": [
    "fruits.value_counts().idxmax()"
   ]
  },
  {
   "cell_type": "markdown",
   "id": "500cde86",
   "metadata": {},
   "source": [
    "#### 10. Determine the string value that occurs least frequently in fruits."
   ]
  },
  {
   "cell_type": "code",
   "execution_count": 82,
   "id": "03e06119",
   "metadata": {},
   "outputs": [
    {
     "data": {
      "text/plain": [
       "'blueberry'"
      ]
     },
     "execution_count": 82,
     "metadata": {},
     "output_type": "execute_result"
    }
   ],
   "source": [
    "fruits.value_counts().idxmin()"
   ]
  }
 ],
 "metadata": {
  "kernelspec": {
   "display_name": "Python 3",
   "language": "python",
   "name": "python3"
  },
  "language_info": {
   "codemirror_mode": {
    "name": "ipython",
    "version": 3
   },
   "file_extension": ".py",
   "mimetype": "text/x-python",
   "name": "python",
   "nbconvert_exporter": "python",
   "pygments_lexer": "ipython3",
   "version": "3.8.8"
  }
 },
 "nbformat": 4,
 "nbformat_minor": 5
}
