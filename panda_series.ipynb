{
 "cells": [
  {
   "cell_type": "markdown",
   "id": "f10ef75b",
   "metadata": {},
   "source": [
    "## Panda Series Exercises Part 1"
   ]
  },
  {
   "cell_type": "markdown",
   "id": "0e0ceffe",
   "metadata": {},
   "source": [
    "#### Use pandas to create a Series named fruits from the following list:\n",
    "\n",
    "```[\"kiwi\", \"mango\", \"strawberry\", \"pineapple\", \"gala apple\", \"honeycrisp apple\", \"tomato\", \"watermelon\", \"honeydew\", \"kiwi\", \"kiwi\", \"kiwi\", \"mango\", \"blueberry\", \"blackberry\", \"gooseberry\", \"papaya\"]```"
   ]
  },
  {
   "cell_type": "code",
   "execution_count": 7,
   "id": "abe96faf",
   "metadata": {},
   "outputs": [],
   "source": [
    "import pandas as pd\n",
    "\n",
    "fruit_data = [\"kiwi\", \"mango\", \"strawberry\", \"pineapple\", \"gala apple\", \"honeycrisp apple\", \"tomato\", \"watermelon\", \"honeydew\", \"kiwi\", \"kiwi\", \"kiwi\", \"mango\", \"blueberry\", \"blackberry\", \"gooseberry\", \"papaya\"]\n",
    "fruits = pd.Series(fruit_data)"
   ]
  },
  {
   "cell_type": "markdown",
   "id": "350f958a",
   "metadata": {},
   "source": [
    "### Use Series attributes and methods to explore your fruits Series.\n",
    "\n",
    "#### 1. Determine the number of elements in fruits."
   ]
  },
  {
   "cell_type": "code",
   "execution_count": 50,
   "id": "55621f21",
   "metadata": {},
   "outputs": [
    {
     "data": {
      "text/plain": [
       "17"
      ]
     },
     "execution_count": 50,
     "metadata": {},
     "output_type": "execute_result"
    }
   ],
   "source": [
    "fruits.size"
   ]
  },
  {
   "cell_type": "markdown",
   "id": "bd444e2d",
   "metadata": {},
   "source": [
    "#### 2. Output only the index from fruits."
   ]
  },
  {
   "cell_type": "code",
   "execution_count": 60,
   "id": "75572a90",
   "metadata": {},
   "outputs": [
    {
     "name": "stdout",
     "output_type": "stream",
     "text": [
      "RangeIndex(start=0, stop=17, step=1)\n"
     ]
    }
   ],
   "source": [
    "print(fruits.index)"
   ]
  },
  {
   "cell_type": "markdown",
   "id": "3e9f1d9c",
   "metadata": {},
   "source": [
    "#### 3. Output only the values from fruits."
   ]
  },
  {
   "cell_type": "code",
   "execution_count": 91,
   "id": "9436f2a5",
   "metadata": {},
   "outputs": [
    {
     "name": "stdout",
     "output_type": "stream",
     "text": [
      "kiwi\n",
      "mango\n",
      "strawberry\n",
      "pineapple\n",
      "gala apple\n",
      "honeycrisp apple\n",
      "tomato\n",
      "watermelon\n",
      "honeydew\n",
      "kiwi\n",
      "kiwi\n",
      "kiwi\n",
      "mango\n",
      "blueberry\n",
      "blackberry\n",
      "gooseberry\n",
      "papaya\n"
     ]
    }
   ],
   "source": [
    "fruit_values = fruits.values\n",
    "for each_fruit in fruit_values:\n",
    "    print(each_fruit)"
   ]
  },
  {
   "cell_type": "markdown",
   "id": "41985479",
   "metadata": {},
   "source": [
    "#### 4. Confirm the data type of the values in fruits."
   ]
  },
  {
   "cell_type": "code",
   "execution_count": 54,
   "id": "fbeda359",
   "metadata": {},
   "outputs": [
    {
     "name": "stdout",
     "output_type": "stream",
     "text": [
      "object\n"
     ]
    }
   ],
   "source": [
    "print(fruits.dtypes)"
   ]
  },
  {
   "cell_type": "markdown",
   "id": "73d90823",
   "metadata": {},
   "source": [
    "#### 5. Output only the first five values from fruits. Output the last three values. Output two random values from fruits."
   ]
  },
  {
   "cell_type": "code",
   "execution_count": 88,
   "id": "6a50af79",
   "metadata": {},
   "outputs": [
    {
     "data": {
      "text/plain": [
       "0     kiwi\n",
       "11    kiwi\n",
       "dtype: object"
      ]
     },
     "execution_count": 88,
     "metadata": {},
     "output_type": "execute_result"
    }
   ],
   "source": [
    "fruits.head()\n",
    "fruits.tail(n=3)\n",
    "fruits.sample(n=2)"
   ]
  },
  {
   "cell_type": "markdown",
   "id": "abae2dca",
   "metadata": {},
   "source": [
    "#### 6. Run the ```.describe()``` on fruits to see what information it returns when called on Series with string values."
   ]
  },
  {
   "cell_type": "code",
   "execution_count": 62,
   "id": "f9105e09",
   "metadata": {},
   "outputs": [
    {
     "data": {
      "text/plain": [
       "count       17\n",
       "unique      13\n",
       "top       kiwi\n",
       "freq         4\n",
       "dtype: object"
      ]
     },
     "execution_count": 62,
     "metadata": {},
     "output_type": "execute_result"
    }
   ],
   "source": [
    "fruits.describe()"
   ]
  },
  {
   "cell_type": "markdown",
   "id": "a6d27d95",
   "metadata": {},
   "source": [
    "#### 7. Run the code necessary to produce only the unique string values from fruits."
   ]
  },
  {
   "cell_type": "code",
   "execution_count": 85,
   "id": "3f2f2e1e",
   "metadata": {},
   "outputs": [
    {
     "name": "stdout",
     "output_type": "stream",
     "text": [
      "kiwi\n",
      "mango\n",
      "strawberry\n",
      "pineapple\n",
      "gala apple\n",
      "honeycrisp apple\n",
      "tomato\n",
      "watermelon\n",
      "honeydew\n",
      "blueberry\n",
      "blackberry\n",
      "gooseberry\n",
      "papaya\n"
     ]
    }
   ],
   "source": [
    "unique_fruits = fruits.unique()\n",
    "for each_fruit in unique_fruits:\n",
    "    print(each_fruit)"
   ]
  },
  {
   "cell_type": "markdown",
   "id": "6a734c1f",
   "metadata": {},
   "source": [
    "#### 8. Determine how many times each unique string value occurs in fruits."
   ]
  },
  {
   "cell_type": "code",
   "execution_count": 71,
   "id": "f71d7d5e",
   "metadata": {},
   "outputs": [
    {
     "data": {
      "text/plain": [
       "kiwi                4\n",
       "mango               2\n",
       "blueberry           1\n",
       "blackberry          1\n",
       "papaya              1\n",
       "watermelon          1\n",
       "honeydew            1\n",
       "pineapple           1\n",
       "honeycrisp apple    1\n",
       "gala apple          1\n",
       "strawberry          1\n",
       "tomato              1\n",
       "gooseberry          1\n",
       "dtype: int64"
      ]
     },
     "execution_count": 71,
     "metadata": {},
     "output_type": "execute_result"
    }
   ],
   "source": [
    "fruits.value_counts()"
   ]
  },
  {
   "cell_type": "markdown",
   "id": "a405eae0",
   "metadata": {},
   "source": [
    "#### 9. Determine the string value that occurs most frequently in fruits."
   ]
  },
  {
   "cell_type": "code",
   "execution_count": 81,
   "id": "f19b4719",
   "metadata": {},
   "outputs": [
    {
     "data": {
      "text/plain": [
       "'kiwi'"
      ]
     },
     "execution_count": 81,
     "metadata": {},
     "output_type": "execute_result"
    }
   ],
   "source": [
    "fruits.value_counts().idxmax()"
   ]
  },
  {
   "cell_type": "markdown",
   "id": "18944f4b",
   "metadata": {},
   "source": [
    "#### 10. Determine the string value that occurs least frequently in fruits."
   ]
  },
  {
   "cell_type": "code",
   "execution_count": 82,
   "id": "7dddb3a5",
   "metadata": {},
   "outputs": [
    {
     "data": {
      "text/plain": [
       "'blueberry'"
      ]
     },
     "execution_count": 82,
     "metadata": {},
     "output_type": "execute_result"
    }
   ],
   "source": [
    "fruits.value_counts().idxmin()"
   ]
  },
  {
   "cell_type": "markdown",
   "id": "b3041101",
   "metadata": {},
   "source": [
    "## Panda Series Exercise Part 2"
   ]
  },
  {
   "cell_type": "markdown",
   "id": "fb85efbc",
   "metadata": {},
   "source": [
    "#### 1. Capitalize all the string values in fruits."
   ]
  },
  {
   "cell_type": "code",
   "execution_count": 95,
   "id": "71602745",
   "metadata": {},
   "outputs": [
    {
     "data": {
      "text/plain": [
       "0                 Kiwi\n",
       "1                Mango\n",
       "2           Strawberry\n",
       "3            Pineapple\n",
       "4           Gala apple\n",
       "5     Honeycrisp apple\n",
       "6               Tomato\n",
       "7           Watermelon\n",
       "8             Honeydew\n",
       "9                 Kiwi\n",
       "10                Kiwi\n",
       "11                Kiwi\n",
       "12               Mango\n",
       "13           Blueberry\n",
       "14          Blackberry\n",
       "15          Gooseberry\n",
       "16              Papaya\n",
       "dtype: object"
      ]
     },
     "execution_count": 95,
     "metadata": {},
     "output_type": "execute_result"
    }
   ],
   "source": [
    "fruits.str.capitalize()"
   ]
  },
  {
   "cell_type": "markdown",
   "id": "7f03496d",
   "metadata": {},
   "source": [
    "#### 2. Count the letter 'a' in all the string values (using string vectorization)."
   ]
  },
  {
   "cell_type": "code",
   "execution_count": 98,
   "id": "416d2fe3",
   "metadata": {
    "scrolled": true
   },
   "outputs": [
    {
     "data": {
      "text/plain": [
       "0     0\n",
       "1     1\n",
       "2     1\n",
       "3     1\n",
       "4     3\n",
       "5     1\n",
       "6     1\n",
       "7     1\n",
       "8     0\n",
       "9     0\n",
       "10    0\n",
       "11    0\n",
       "12    1\n",
       "13    0\n",
       "14    1\n",
       "15    0\n",
       "16    3\n",
       "dtype: int64"
      ]
     },
     "execution_count": 98,
     "metadata": {},
     "output_type": "execute_result"
    }
   ],
   "source": [
    "fruits.str.count('a')"
   ]
  },
  {
   "cell_type": "markdown",
   "id": "c82a51b8",
   "metadata": {},
   "source": [
    "#### 3. Output the number of vowels in each and every string value."
   ]
  },
  {
   "cell_type": "code",
   "execution_count": 40,
   "id": "3ecb51ca",
   "metadata": {
    "scrolled": true
   },
   "outputs": [
    {
     "data": {
      "text/plain": [
       "0     2\n",
       "1     2\n",
       "2     2\n",
       "3     4\n",
       "4     4\n",
       "5     5\n",
       "6     3\n",
       "7     4\n",
       "8     3\n",
       "9     2\n",
       "10    2\n",
       "11    2\n",
       "12    2\n",
       "13    3\n",
       "14    2\n",
       "15    4\n",
       "16    3\n",
       "dtype: int64"
      ]
     },
     "execution_count": 40,
     "metadata": {},
     "output_type": "execute_result"
    }
   ],
   "source": [
    "fruits.str.lower().str.count('[aeiou]') \n"
   ]
  },
  {
   "cell_type": "markdown",
   "id": "b4046bad",
   "metadata": {},
   "source": [
    "#### 4. Write the code to get the longest string from the fruits series."
   ]
  },
  {
   "cell_type": "code",
   "execution_count": 44,
   "id": "d8a3d662",
   "metadata": {},
   "outputs": [
    {
     "data": {
      "text/plain": [
       "'honeycrisp apple'"
      ]
     },
     "execution_count": 44,
     "metadata": {},
     "output_type": "execute_result"
    }
   ],
   "source": [
    "max(fruits, key=len)"
   ]
  },
  {
   "cell_type": "markdown",
   "id": "087fd524",
   "metadata": {},
   "source": [
    "#### 5. Write the code to get the string values with 5 or more letters in the name."
   ]
  },
  {
   "cell_type": "code",
   "execution_count": 46,
   "id": "3adc2fe1",
   "metadata": {},
   "outputs": [
    {
     "data": {
      "text/plain": [
       "1                mango\n",
       "2           strawberry\n",
       "3            pineapple\n",
       "4           gala apple\n",
       "5     honeycrisp apple\n",
       "6               tomato\n",
       "7           watermelon\n",
       "8             honeydew\n",
       "12               mango\n",
       "13           blueberry\n",
       "14          blackberry\n",
       "15          gooseberry\n",
       "16              papaya\n",
       "dtype: object"
      ]
     },
     "execution_count": 46,
     "metadata": {},
     "output_type": "execute_result"
    }
   ],
   "source": [
    "fruits[fruits.str.len() > 4]"
   ]
  },
  {
   "cell_type": "markdown",
   "id": "458d6297",
   "metadata": {},
   "source": [
    "#### 6. Use the ```.apply``` method with a lambda function to find the fruits() containing the letter 'o' two or more times."
   ]
  },
  {
   "cell_type": "code",
   "execution_count": 55,
   "id": "70af50de",
   "metadata": {
    "scrolled": false
   },
   "outputs": [
    {
     "data": {
      "text/plain": [
       "6         tomato\n",
       "15    gooseberry\n",
       "dtype: object"
      ]
     },
     "execution_count": 55,
     "metadata": {},
     "output_type": "execute_result"
    }
   ],
   "source": [
    "fruits[fruits.apply(lambda n: n.count('o') >= 2)]"
   ]
  },
  {
   "cell_type": "markdown",
   "id": "2d6e49a0",
   "metadata": {},
   "source": [
    "#### 7. Write the code to get only the string values containing the substring 'berry'."
   ]
  },
  {
   "cell_type": "code",
   "execution_count": 58,
   "id": "da52ebdb",
   "metadata": {
    "scrolled": true
   },
   "outputs": [
    {
     "data": {
      "text/plain": [
       "2     strawberry\n",
       "13     blueberry\n",
       "14    blackberry\n",
       "15    gooseberry\n",
       "dtype: object"
      ]
     },
     "execution_count": 58,
     "metadata": {},
     "output_type": "execute_result"
    }
   ],
   "source": [
    "fruits[fruits.str.contains('berry')]"
   ]
  },
  {
   "cell_type": "markdown",
   "id": "4c04c2aa",
   "metadata": {},
   "source": [
    "#### 8. Write the code to get only the string values containing the substring 'apple'."
   ]
  },
  {
   "cell_type": "code",
   "execution_count": 59,
   "id": "30514bed",
   "metadata": {
    "scrolled": false
   },
   "outputs": [
    {
     "data": {
      "text/plain": [
       "3           pineapple\n",
       "4          gala apple\n",
       "5    honeycrisp apple\n",
       "dtype: object"
      ]
     },
     "execution_count": 59,
     "metadata": {},
     "output_type": "execute_result"
    }
   ],
   "source": [
    "fruits[fruits.str.contains('apple')]"
   ]
  },
  {
   "cell_type": "markdown",
   "id": "127de652",
   "metadata": {},
   "source": [
    "#### 9. Which string value contains the most vowels?"
   ]
  },
  {
   "cell_type": "code",
   "execution_count": 66,
   "id": "d6ec0267",
   "metadata": {
    "scrolled": true
   },
   "outputs": [
    {
     "data": {
      "text/plain": [
       "5    honeycrisp apple\n",
       "dtype: object"
      ]
     },
     "execution_count": 66,
     "metadata": {},
     "output_type": "execute_result"
    }
   ],
   "source": [
    "fruits[fruits.str.count('[aeiou]') == fruits.str.count('[aeiou]').max()]"
   ]
  },
  {
   "cell_type": "markdown",
   "id": "34fb6213",
   "metadata": {},
   "source": [
    "## Pandas Exercises Part III"
   ]
  },
  {
   "cell_type": "markdown",
   "id": "f5a45868",
   "metadata": {},
   "source": [
    "####  Use pandas to create a Series named letters from the following string: ```hnvidduckkqxwymbimkccexbkmqygkxoyndmcxnwqarhyffsjpsrabtjzsypmzadfavyrnndndvswreauxovncxtwzpwejilzjrmmbbgbyxvjtewqthafnbkqplarokkyydtubbmnexoypulzwfhqvckdpqtpoppzqrmcvhhpwgjwupgzhiofohawytlsiyecuproguy```"
   ]
  },
  {
   "cell_type": "code",
   "execution_count": 8,
   "id": "ca813b35",
   "metadata": {},
   "outputs": [],
   "source": [
    "letters = pd.Series([lett for lett in 'hnvidduckkqxwymbimkccexbkmqygkxoyndmcxnwqarhyffsjpsrabtjzsypmzadfavyrnndndvswreauxovncxtwzpwejilzjrmmbbgbyxvjtewqthafnbkqplarokkyydtubbmnexoypulzwfhqvckdpqtpoppzqrmcvhhpwgjwupgzhiofohawytlsiyecuproguy'])"
   ]
  },
  {
   "cell_type": "markdown",
   "id": "8d6ba57f",
   "metadata": {},
   "source": [
    "#### 1. Which letter occurs the most frequently in the letters Series?"
   ]
  },
  {
   "cell_type": "code",
   "execution_count": 9,
   "id": "3a2c7277",
   "metadata": {},
   "outputs": [
    {
     "data": {
      "text/plain": [
       "'y'"
      ]
     },
     "execution_count": 9,
     "metadata": {},
     "output_type": "execute_result"
    }
   ],
   "source": [
    "letters.value_counts().idxmax()"
   ]
  },
  {
   "cell_type": "markdown",
   "id": "cfe5d814",
   "metadata": {},
   "source": [
    "#### 2. Which letter occurs the least frequently?"
   ]
  },
  {
   "cell_type": "code",
   "execution_count": 10,
   "id": "f7b48281",
   "metadata": {},
   "outputs": [
    {
     "data": {
      "text/plain": [
       "'l'"
      ]
     },
     "execution_count": 10,
     "metadata": {},
     "output_type": "execute_result"
    }
   ],
   "source": [
    "letters.value_counts().idxmin()"
   ]
  },
  {
   "cell_type": "markdown",
   "id": "e0030517",
   "metadata": {},
   "source": [
    "#### 3. How many vowels are in the Series?"
   ]
  },
  {
   "cell_type": "code",
   "execution_count": 11,
   "id": "6a362cbc",
   "metadata": {},
   "outputs": [
    {
     "data": {
      "text/plain": [
       "34"
      ]
     },
     "execution_count": 11,
     "metadata": {},
     "output_type": "execute_result"
    }
   ],
   "source": [
    "letters.str.lower().str.count('[aeiou]').sum()"
   ]
  },
  {
   "cell_type": "markdown",
   "id": "b6eb0cc7",
   "metadata": {},
   "source": [
    "#### 4. How many consonants are in the Series?"
   ]
  },
  {
   "cell_type": "code",
   "execution_count": 12,
   "id": "2d242b2a",
   "metadata": {},
   "outputs": [
    {
     "data": {
      "text/plain": [
       "166"
      ]
     },
     "execution_count": 12,
     "metadata": {},
     "output_type": "execute_result"
    }
   ],
   "source": [
    "(-letters.str.lower().isin([lett for lett in 'aeiou'])).sum()"
   ]
  },
  {
   "cell_type": "markdown",
   "id": "459ef579",
   "metadata": {},
   "source": [
    "#### 5. Create a Series that has all the same letters but uppercased."
   ]
  },
  {
   "cell_type": "code",
   "execution_count": 97,
   "id": "9c1193ef",
   "metadata": {},
   "outputs": [
    {
     "data": {
      "text/plain": [
       "0      H\n",
       "1      N\n",
       "2      V\n",
       "3      I\n",
       "4      D\n",
       "      ..\n",
       "195    R\n",
       "196    O\n",
       "197    G\n",
       "198    U\n",
       "199    Y\n",
       "Length: 200, dtype: object"
      ]
     },
     "execution_count": 97,
     "metadata": {},
     "output_type": "execute_result"
    }
   ],
   "source": [
    "letters.str.upper()"
   ]
  },
  {
   "cell_type": "markdown",
   "id": "99bd4b99",
   "metadata": {},
   "source": [
    "#### 6. Create a bar plot of the frequencies of the 6 most commonly occuring letters."
   ]
  },
  {
   "cell_type": "code",
   "execution_count": 3,
   "id": "bbcad4f0",
   "metadata": {},
   "outputs": [
    {
     "ename": "NameError",
     "evalue": "name 'letters' is not defined",
     "output_type": "error",
     "traceback": [
      "\u001b[0;31m---------------------------------------------------------------------------\u001b[0m",
      "\u001b[0;31mNameError\u001b[0m                                 Traceback (most recent call last)",
      "\u001b[0;32m<ipython-input-3-8886da3ba2a4>\u001b[0m in \u001b[0;36m<module>\u001b[0;34m\u001b[0m\n\u001b[1;32m      1\u001b[0m \u001b[0;32mimport\u001b[0m \u001b[0mmatplotlib\u001b[0m\u001b[0;34m.\u001b[0m\u001b[0mpyplot\u001b[0m \u001b[0;32mas\u001b[0m \u001b[0mplt\u001b[0m\u001b[0;34m\u001b[0m\u001b[0;34m\u001b[0m\u001b[0m\n\u001b[0;32m----> 2\u001b[0;31m letters.value_counts().head(6).plot(title='Top Six letters',\n\u001b[0m\u001b[1;32m      3\u001b[0m                                     \u001b[0mkind\u001b[0m\u001b[0;34m=\u001b[0m\u001b[0;34m'barh'\u001b[0m\u001b[0;34m,\u001b[0m\u001b[0;34m\u001b[0m\u001b[0;34m\u001b[0m\u001b[0m\n\u001b[1;32m      4\u001b[0m                                    \u001b[0mcolor\u001b[0m\u001b[0;34m=\u001b[0m\u001b[0;34m'red'\u001b[0m\u001b[0;34m,\u001b[0m\u001b[0;34m\u001b[0m\u001b[0;34m\u001b[0m\u001b[0m\n\u001b[1;32m      5\u001b[0m                                    \u001b[0mec\u001b[0m\u001b[0;34m=\u001b[0m\u001b[0;34m'black'\u001b[0m\u001b[0;34m,\u001b[0m\u001b[0;34m\u001b[0m\u001b[0;34m\u001b[0m\u001b[0m\n",
      "\u001b[0;31mNameError\u001b[0m: name 'letters' is not defined"
     ]
    }
   ],
   "source": [
    "import matplotlib.pyplot as plt\n",
    "letters.value_counts().head(6).plot(title='Top Six letters',\n",
    "                                    kind='barh',\n",
    "                                   color='red',\n",
    "                                   ec='black',\n",
    "                                   width=.9)\n",
    "plt.show()\n"
   ]
  },
  {
   "cell_type": "markdown",
   "id": "d4bac4ca",
   "metadata": {},
   "source": [
    "### Use pandas to create a Series named numbers from the following list: \n",
    "\n",
    "```['$796,459.41', '$278.60', '$482,571.67', '$4,503,915.98', '$2,121,418.3', '$1,260,813.3', '$87,231.01', '$1,509,175.45', '$4,138,548.00', '$2,848,913.80', '$594,715.39', '$4,789,988.17', '$4,513,644.5', '$3,191,059.97', '$1,758,712.24', '$4,338,283.54', '$4,738,303.38', '$2,791,759.67', '$769,681.94', '$452,650.23']```"
   ]
  },
  {
   "cell_type": "code",
   "execution_count": 15,
   "id": "4eb3b063",
   "metadata": {},
   "outputs": [],
   "source": [
    "number_list = ['$796,459.41', '$278.60', '$482,571.67', '$4,503,915.98', '$2,121,418.3', '$1,260,813.3', '$87,231.01', '$1,509,175.45', '$4,138,548.00', '$2,848,913.80', '$594,715.39', '$4,789,988.17', '$4,513,644.5', '$3,191,059.97', '$1,758,712.24', '$4,338,283.54', '$4,738,303.38', '$2,791,759.67', '$769,681.94', '$452,650.23']\n",
    "\n",
    "numbers = pd.Series(number_list)"
   ]
  },
  {
   "cell_type": "markdown",
   "id": "0714e0d6",
   "metadata": {},
   "source": [
    "#### 1. What is the data type of the numbers Series?"
   ]
  },
  {
   "cell_type": "code",
   "execution_count": 114,
   "id": "0e54cd44",
   "metadata": {},
   "outputs": [
    {
     "name": "stdout",
     "output_type": "stream",
     "text": [
      "object\n"
     ]
    }
   ],
   "source": [
    "print(numbers.dtype)"
   ]
  },
  {
   "cell_type": "markdown",
   "id": "be74cccf",
   "metadata": {},
   "source": [
    "#### 2. How many elements are in the number Series?"
   ]
  },
  {
   "cell_type": "code",
   "execution_count": 115,
   "id": "7dc0adf2",
   "metadata": {},
   "outputs": [
    {
     "name": "stdout",
     "output_type": "stream",
     "text": [
      "20\n"
     ]
    }
   ],
   "source": [
    "print(len(numbers))"
   ]
  },
  {
   "cell_type": "markdown",
   "id": "8b02b91f",
   "metadata": {},
   "source": [
    "#### 3. Perform the necessary manipulations by accessing Series attributes and methods to convert the numbers Series to a numeric data type."
   ]
  },
  {
   "cell_type": "code",
   "execution_count": 16,
   "id": "bc56ca8a",
   "metadata": {},
   "outputs": [],
   "source": [
    "numbers_as_numeric = pd.to_numeric(numbers.replace('[\\$,]', '', regex=True))"
   ]
  },
  {
   "cell_type": "markdown",
   "id": "0a918f42",
   "metadata": {},
   "source": [
    "#### 4. Run the code to discover the maximum value from the Series."
   ]
  },
  {
   "cell_type": "code",
   "execution_count": 125,
   "id": "47de31d2",
   "metadata": {
    "scrolled": true
   },
   "outputs": [
    {
     "data": {
      "text/plain": [
       "4789988.17"
      ]
     },
     "execution_count": 125,
     "metadata": {},
     "output_type": "execute_result"
    }
   ],
   "source": [
    "numbers_as_numeric.values.max()"
   ]
  },
  {
   "cell_type": "markdown",
   "id": "00b2b36f",
   "metadata": {},
   "source": [
    "#### 5. Run the code to discover the minimum value from the Series."
   ]
  },
  {
   "cell_type": "code",
   "execution_count": 126,
   "id": "cf9d66e2",
   "metadata": {
    "scrolled": true
   },
   "outputs": [
    {
     "data": {
      "text/plain": [
       "278.6"
      ]
     },
     "execution_count": 126,
     "metadata": {},
     "output_type": "execute_result"
    }
   ],
   "source": [
    "numbers_as_numeric.values.min()"
   ]
  },
  {
   "cell_type": "markdown",
   "id": "ef33d921",
   "metadata": {},
   "source": [
    "#### 6. What is the range of the values in the Series?"
   ]
  },
  {
   "cell_type": "code",
   "execution_count": 131,
   "id": "389356bf",
   "metadata": {},
   "outputs": [
    {
     "data": {
      "text/plain": [
       "4789709.57"
      ]
     },
     "execution_count": 131,
     "metadata": {},
     "output_type": "execute_result"
    }
   ],
   "source": [
    "vals = numbers_as_numeric.values\n",
    "vals.max() - vals.min()"
   ]
  },
  {
   "cell_type": "markdown",
   "id": "3501e884",
   "metadata": {},
   "source": [
    "#### 7.Bin the data into 4 equally sized intervals or bins and output how many values fall into each bin."
   ]
  },
  {
   "cell_type": "code",
   "execution_count": 17,
   "id": "bf2bfa61",
   "metadata": {
    "scrolled": true
   },
   "outputs": [
    {
     "data": {
      "text/plain": [
       "(-4511.111, 1197705.993]      7\n",
       "(3592560.778, 4789988.17]     6\n",
       "(1197705.993, 2395133.385]    4\n",
       "(2395133.385, 3592560.778]    3\n",
       "dtype: int64"
      ]
     },
     "execution_count": 17,
     "metadata": {},
     "output_type": "execute_result"
    }
   ],
   "source": [
    "numbers_as_numeric.value_counts(bins=4)"
   ]
  },
  {
   "cell_type": "markdown",
   "id": "74e9d848",
   "metadata": {},
   "source": [
    "#### 8. Plot the binned data in a meaningful way. Be sure to include a title and axis labels."
   ]
  },
  {
   "cell_type": "code",
   "execution_count": 23,
   "id": "a9b8bf79",
   "metadata": {},
   "outputs": [
    {
     "data": {
      "image/png": "[encoded data removed]",
      "text/plain": [
       "<Figure size 432x288 with 1 Axes>"
      ]
     },
     "metadata": {
      "needs_background": "light"
     },
     "output_type": "display_data"
    }
   ],
   "source": [
    "numbers_as_numeric.value_counts(bins=4).sort_index().plot(kind='barh',\n",
    "                                                         color='red')\n",
    "plt.title('4 Bins of Numbers')\n",
    "plt.xlabel('Count')\n",
    "plt.ylabel('US Dollars')\n",
    "plt.show()\n"
   ]
  },
  {
   "cell_type": "markdown",
   "id": "ff003ee3",
   "metadata": {},
   "source": [
    "### Use pandas to create a Series name exam_scores from the following list:\n",
    "\n",
    "```[60, 86, 75, 62, 93, 71, 60, 83, 95, 78, 65, 72, 69, 81, 96, 80, 85, 92, 82, 78]```\n"
   ]
  },
  {
   "cell_type": "code",
   "execution_count": 27,
   "id": "38670d16",
   "metadata": {},
   "outputs": [],
   "source": [
    "exam_scores = pd.Series([60, 86, 75, 62, 93, 71, 60, 83, 95, 78, 65, 72, 69, 81, 96, 80, 85, 92, 82, 78]\n",
    ")"
   ]
  },
  {
   "cell_type": "markdown",
   "id": "9c8a4a43",
   "metadata": {},
   "source": [
    "#### 1. How many elements are in the exam_scores Series?"
   ]
  },
  {
   "cell_type": "code",
   "execution_count": 28,
   "id": "92657213",
   "metadata": {},
   "outputs": [
    {
     "data": {
      "text/plain": [
       "20"
      ]
     },
     "execution_count": 28,
     "metadata": {},
     "output_type": "execute_result"
    }
   ],
   "source": [
    "len(exam_scores)"
   ]
  },
  {
   "cell_type": "markdown",
   "id": "69cc2626",
   "metadata": {},
   "source": [
    "#### 2. Run the code to discover the minimum, the maximum, the mean, and the median scores for the exam_scores Series."
   ]
  },
  {
   "cell_type": "code",
   "execution_count": 30,
   "id": "3cd8a853",
   "metadata": {},
   "outputs": [
    {
     "data": {
      "text/plain": [
       "(60, 96, 79.0)"
      ]
     },
     "execution_count": 30,
     "metadata": {},
     "output_type": "execute_result"
    }
   ],
   "source": [
    "exam_scores.min(), exam_scores.max(), exam_scores.median()"
   ]
  },
  {
   "cell_type": "markdown",
   "id": "5cb669a5",
   "metadata": {},
   "source": [
    "#### 3. Plot the Series in a meaningful way and make sure your chart has a title and axis labels."
   ]
  },
  {
   "cell_type": "code",
   "execution_count": 76,
   "id": "23f92ce1",
   "metadata": {
    "scrolled": true
   },
   "outputs": [
    {
     "data": {
      "image/png": "[encoded data removed]",
      "text/plain": [
       "<Figure size 432x288 with 1 Axes>"
      ]
     },
     "metadata": {
      "needs_background": "light"
     },
     "output_type": "display_data"
    }
   ],
   "source": [
    "grades = pd.cut(exam_scores, [0, 60, 70, 80, 90, 100],\n",
    "       labels=['F', 'D', 'C', 'B','A'])\n",
    "grades.value_counts().sort_index(ascending=False).plot(kind='bar',color='red')\n",
    "plt.title('Letter Grades')\n",
    "plt.xlabel=('Grade')\n",
    "plt.ylabel=('Count')\n",
    "plt.show()"
   ]
  },
  {
   "cell_type": "markdown",
   "id": "ff3624b8",
   "metadata": {},
   "source": [
    "#### 4. Write the code necessary to implement a curve for your exam_grades Series and save this as curved_grades. Add the necessary points to the highest grade to make it 100, and add the same number of points to every other score in the Series as well."
   ]
  },
  {
   "cell_type": "code",
   "execution_count": 68,
   "id": "13d660df",
   "metadata": {},
   "outputs": [],
   "source": [
    "curve_delta = 100 - exam_scores.max()\n",
    "curved_grades = exam_scores + curve_delta"
   ]
  },
  {
   "cell_type": "markdown",
   "id": "8025da00",
   "metadata": {},
   "source": [
    "#### 5. Use a method to convert each of the numeric values in the curved_grades Series into a categorical value of letter grades. For example, 86 should be a 'B' and 95 should be an 'A'. Save this as a Series named letter_grades."
   ]
  },
  {
   "cell_type": "code",
   "execution_count": 77,
   "id": "121474bf",
   "metadata": {
    "scrolled": false
   },
   "outputs": [
    {
     "data": {
      "text/plain": [
       "0     D\n",
       "1     B\n",
       "2     C\n",
       "3     D\n",
       "4     A\n",
       "5     C\n",
       "6     D\n",
       "7     B\n",
       "8     A\n",
       "9     B\n",
       "10    D\n",
       "11    C\n",
       "12    C\n",
       "13    B\n",
       "14    A\n",
       "15    B\n",
       "16    B\n",
       "17    A\n",
       "18    B\n",
       "19    B\n",
       "dtype: category\n",
       "Categories (5, object): ['F' < 'D' < 'C' < 'B' < 'A']"
      ]
     },
     "execution_count": 77,
     "metadata": {},
     "output_type": "execute_result"
    }
   ],
   "source": [
    "letter_grades = pd.cut(curved_grades, [0, 60, 70, 80, 90, 100],\n",
    "       labels=['F', 'D', 'C', 'B','A'])\n",
    "letter_grades"
   ]
  },
  {
   "cell_type": "markdown",
   "id": "b90d56ae",
   "metadata": {},
   "source": [
    "#### 6. Plot your new categorical letter_grades Series in a meaninful way and include a title and axis labels."
   ]
  },
  {
   "cell_type": "code",
   "execution_count": 78,
   "id": "7a8c2aea",
   "metadata": {},
   "outputs": [
    {
     "data": {
      "image/png": "[encoded data removed]",
      "text/plain": [
       "<Figure size 432x288 with 1 Axes>"
      ]
     },
     "metadata": {
      "needs_background": "light"
     },
     "output_type": "display_data"
    }
   ],
   "source": [
    "letter_grades.value_counts().sort_index(ascending=False).plot(kind='bar',color='red')\n",
    "plt.title('Letter Grades')\n",
    "plt.xlabel=('Grade')\n",
    "plt.ylabel=('Count')\n",
    "plt.show()"
   ]
  }
 ],
 "metadata": {
  "kernelspec": {
   "display_name": "Python 3",
   "language": "python",
   "name": "python3"
  },
  "language_info": {
   "codemirror_mode": {
    "name": "ipython",
    "version": 3
   },
   "file_extension": ".py",
   "mimetype": "text/x-python",
   "name": "python",
   "nbconvert_exporter": "python",
   "pygments_lexer": "ipython3",
   "version": "3.8.8"
  }
 },
 "nbformat": 4,
 "nbformat_minor": 5
}
